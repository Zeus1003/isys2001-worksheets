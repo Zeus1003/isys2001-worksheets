{
  "nbformat": 4,
  "nbformat_minor": 0,
  "metadata": {
    "colab": {
      "name": "debugging_isPrime().ipynb",
      "provenance": [],
      "include_colab_link": true
    },
    "kernelspec": {
      "name": "python3",
      "display_name": "Python 3"
    },
    "language_info": {
      "name": "python"
    }
  },
  "cells": [
    {
      "cell_type": "markdown",
      "metadata": {
        "id": "view-in-github",
        "colab_type": "text"
      },
      "source": [
        "<a href=\"https://colab.research.google.com/github/Zeus1003/isys2001-worksheets/blob/main/debugging_isPrime().ipynb\" target=\"_parent\"><img src=\"https://colab.research.google.com/assets/colab-badge.svg\" alt=\"Open In Colab\"/></a>"
      ]
    },
    {
      "cell_type": "markdown",
      "source": [
        "## Debug isPrime()\n",
        "What is your preferred method? Do you like using print() or prefer *pdb*?   Since mistakes in programs will happen, the important part is that you have a debugging strategy, not which tool you use.\n",
        "\n",
        "Here is a function that needs debugging. Using either print() or *pdb*, debug the following function."
      ],
      "metadata": {
        "id": "LIfoDVzKX7uK"
      }
    },
    {
      "cell_type": "code",
      "source": [
        "def isPrime(candidate):\n",
        "    if candidate <= 1:\n",
        "        return False\n",
        "\n",
        "    lower = candidate - 1\n",
        "    while lower > 1:\n",
        "        if candidate / lower == candidate // lower:\n",
        "            return False\n",
        "        lower -= 1\n",
        "\n",
        "    return True"
      ],
      "metadata": {
        "id": "YH9gDoOYvKwg"
      },
      "execution_count": 1,
      "outputs": []
    },
    {
      "cell_type": "code",
      "source": [
        "isPrime(2)"
      ],
      "metadata": {
        "colab": {
          "base_uri": "https://localhost:8080/"
        },
        "id": "1Mcns-Wsbb3O",
        "outputId": "138b6137-38a1-49ce-bb35-3b30f9f9e54e"
      },
      "execution_count": 2,
      "outputs": [
        {
          "output_type": "execute_result",
          "data": {
            "text/plain": [
              "True"
            ]
          },
          "metadata": {},
          "execution_count": 2
        }
      ]
    },
    {
      "cell_type": "code",
      "source": [
        "isPrime(0)"
      ],
      "metadata": {
        "colab": {
          "base_uri": "https://localhost:8080/"
        },
        "id": "GBh4O28ob46m",
        "outputId": "fc897f63-f2f2-4db7-e46e-3babae5e316e"
      },
      "execution_count": 3,
      "outputs": [
        {
          "output_type": "execute_result",
          "data": {
            "text/plain": [
              "False"
            ]
          },
          "metadata": {},
          "execution_count": 3
        }
      ]
    },
    {
      "cell_type": "code",
      "source": [
        "isPrime(5)"
      ],
      "metadata": {
        "colab": {
          "base_uri": "https://localhost:8080/"
        },
        "id": "LPmQDJydcByI",
        "outputId": "55d4e8a9-04c6-40e4-f2d2-c0f4f8f01dbe"
      },
      "execution_count": 4,
      "outputs": [
        {
          "output_type": "execute_result",
          "data": {
            "text/plain": [
              "True"
            ]
          },
          "metadata": {},
          "execution_count": 4
        }
      ]
    },
    {
      "cell_type": "code",
      "source": [
        "def isPrime(candidate):\n",
        "    if candidate <= 1:\n",
        "        return False\n",
        "        print(\"Candidate is \", candidate)\n",
        "\n",
        "    lower = candidate - 1\n",
        "   \n",
        "    while lower > 1:\n",
        "       breakpoint()\n",
        "    if candidate / lower == candidate // lower:\n",
        "            return False\n",
        "    lower -= 1\n",
        "\n",
        "    return True"
      ],
      "metadata": {
        "id": "1bjXemn6c--D"
      },
      "execution_count": 2,
      "outputs": []
    },
    {
      "cell_type": "code",
      "source": [
        "l(ist) - Displays 11 lines around the current line\n",
        "s(tep) - Execute the current line, stop at the first possible occasion.\n",
        "n(ext) - Continue execution until the next line in the current function is reached or it returns.\n",
        "b(reak) - Set a breakpoint (depending on the argument provided).\n",
        "r(eturn) - Continue execution until the current function returns.\n"
      ],
      "metadata": {
        "id": "6iMaWQAHdRQC"
      },
      "execution_count": null,
      "outputs": []
    },
    {
      "cell_type": "code",
      "source": [
        "isPrime(9)"
      ],
      "metadata": {
        "colab": {
          "base_uri": "https://localhost:8080/"
        },
        "id": "_pGx0SRKdF1T",
        "outputId": "b2c8c626-95f2-4085-b5ce-ea2aa767eab4"
      },
      "execution_count": null,
      "outputs": [
        {
          "output_type": "stream",
          "name": "stderr",
          "text": [
            "\n",
            "PYDEV DEBUGGER WARNING:\n",
            "sys.settrace() should not be used when the debugger is being used.\n",
            "This may cause the debugger to stop working correctly.\n",
            "If this is needed, please check: \n",
            "http://pydev.blogspot.com/2007/06/why-cant-pydev-debugger-work-with.html\n",
            "to see how to restore the debug tracing back correctly.\n",
            "Call Location:\n",
            "  File \"/usr/lib/python3.7/bdb.py\", line 332, in set_trace\n",
            "    sys.settrace(self.trace_dispatch)\n",
            "\n"
          ]
        },
        {
          "output_type": "stream",
          "name": "stdout",
          "text": [
            "> <ipython-input-2-5279202a5dee>(8)isPrime()\n",
            "-> while lower > 1:\n",
            "(Pdb) l\n",
            "  3  \t        return False\n",
            "  4  \t        print(\"Candidate is \", candidate)\n",
            "  5  \t\n",
            "  6  \t    lower = candidate - 1\n",
            "  7  \t\n",
            "  8  ->\t    while lower > 1:\n",
            "  9  \t       breakpoint()\n",
            " 10  \t    if candidate / lower == candidate // lower:\n",
            " 11  \t            return False\n",
            " 12  \t    lower -= 1\n",
            " 13  \t\n",
            "(Pdb) s\n",
            "> <ipython-input-2-5279202a5dee>(9)isPrime()\n",
            "-> breakpoint()\n",
            "(Pdb) n\n",
            "> <ipython-input-2-5279202a5dee>(8)isPrime()\n",
            "-> while lower > 1:\n",
            "(Pdb) b\n",
            "(Pdb) r\n",
            "> <ipython-input-2-5279202a5dee>(8)isPrime()\n",
            "-> while lower > 1:\n",
            "--KeyboardInterrupt--\n",
            "--KeyboardInterrupt--\n"
          ]
        }
      ]
    }
  ]
}